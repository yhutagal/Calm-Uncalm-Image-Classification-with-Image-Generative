{
  "cells": [
    {
      "cell_type": "code",
      "execution_count": 1,
      "metadata": {
        "colab": {
          "base_uri": "https://localhost:8080/"
        },
        "id": "JEzWLgW7OIbM",
        "outputId": "af521bdb-8e78-44ee-a9bd-15f11f1bd13b"
      },
      "outputs": [
        {
          "output_type": "stream",
          "name": "stdout",
          "text": [
            "Collecting tensorflow-addons\n",
            "  Downloading tensorflow_addons-0.23.0-cp310-cp310-manylinux_2_17_x86_64.manylinux2014_x86_64.whl (611 kB)\n",
            "\u001b[?25l     \u001b[90m━━━━━━━━━━━━━━━━━━━━━━━━━━━━━━━━━━━━━━━━\u001b[0m \u001b[32m0.0/611.8 kB\u001b[0m \u001b[31m?\u001b[0m eta \u001b[36m-:--:--\u001b[0m\r\u001b[2K     \u001b[91m━━━━━━━━━━\u001b[0m\u001b[90m╺\u001b[0m\u001b[90m━━━━━━━━━━━━━━━━━━━━━━━━━━━━━\u001b[0m \u001b[32m153.6/611.8 kB\u001b[0m \u001b[31m4.4 MB/s\u001b[0m eta \u001b[36m0:00:01\u001b[0m\r\u001b[2K     \u001b[91m━━━━━━━━━━━━━━━━━━━━━━━━━━━━━━━━━━\u001b[0m\u001b[90m╺\u001b[0m\u001b[90m━━━━━\u001b[0m \u001b[32m522.2/611.8 kB\u001b[0m \u001b[31m7.5 MB/s\u001b[0m eta \u001b[36m0:00:01\u001b[0m\r\u001b[2K     \u001b[90m━━━━━━━━━━━━━━━━━━━━━━━━━━━━━━━━━━━━━━━━\u001b[0m \u001b[32m611.8/611.8 kB\u001b[0m \u001b[31m6.6 MB/s\u001b[0m eta \u001b[36m0:00:00\u001b[0m\n",
            "\u001b[?25hRequirement already satisfied: packaging in /usr/local/lib/python3.10/dist-packages (from tensorflow-addons) (24.0)\n",
            "Collecting typeguard<3.0.0,>=2.7 (from tensorflow-addons)\n",
            "  Downloading typeguard-2.13.3-py3-none-any.whl (17 kB)\n",
            "Installing collected packages: typeguard, tensorflow-addons\n",
            "Successfully installed tensorflow-addons-0.23.0 typeguard-2.13.3\n"
          ]
        }
      ],
      "source": [
        "! pip install tensorflow-addons"
      ]
    },
    {
      "cell_type": "code",
      "source": [
        "import os\n",
        "import math\n",
        "import numpy as np\n",
        "from tensorflow import keras\n",
        "import matplotlib.pyplot as plt\n",
        "import tensorflow as tf\n",
        "import tensorflow_addons as tfa\n",
        "from tensorflow.keras import layers\n",
        "import numpy as np\n",
        "from sklearn.utils import shuffle\n",
        "from sklearn.model_selection import train_test_split\n",
        "from sklearn.metrics import classification_report\n",
        "from PIL import Image, ImageEnhance\n",
        "from tqdm import tqdm\n",
        "import os\n",
        "import random\n",
        "import cv2"
      ],
      "metadata": {
        "id": "MF1_OdJYYOh5",
        "colab": {
          "base_uri": "https://localhost:8080/"
        },
        "outputId": "f57d30ce-5924-4818-96b6-604f40d3b012"
      },
      "execution_count": 2,
      "outputs": [
        {
          "output_type": "stream",
          "name": "stderr",
          "text": [
            "/usr/local/lib/python3.10/dist-packages/tensorflow_addons/utils/tfa_eol_msg.py:23: UserWarning: \n",
            "\n",
            "TensorFlow Addons (TFA) has ended development and introduction of new features.\n",
            "TFA has entered a minimal maintenance and release mode until a planned end of life in May 2024.\n",
            "Please modify downstream libraries to take dependencies from other repositories in our TensorFlow community (e.g. Keras, Keras-CV, and Keras-NLP). \n",
            "\n",
            "For more information see: https://github.com/tensorflow/addons/issues/2807 \n",
            "\n",
            "  warnings.warn(\n"
          ]
        }
      ]
    },
    {
      "cell_type": "code",
      "execution_count": 3,
      "metadata": {
        "colab": {
          "base_uri": "https://localhost:8080/"
        },
        "id": "NWbcHHmfSg_t",
        "outputId": "4b68bb30-bd40-4bcc-a5e9-cc61c093697e"
      },
      "outputs": [
        {
          "output_type": "stream",
          "name": "stdout",
          "text": [
            "Mounted at /content/drive\n"
          ]
        }
      ],
      "source": [
        "from google.colab import drive\n",
        "drive.mount('/content/drive')"
      ]
    },
    {
      "cell_type": "code",
      "execution_count": 4,
      "metadata": {
        "id": "05zOCM2F0cQG"
      },
      "outputs": [],
      "source": [
        "labels = {'Calm':0,'Uncalm':1}"
      ]
    },
    {
      "cell_type": "code",
      "source": [
        "x_train = []\n",
        "y_train = []\n",
        "image_size = 224\n",
        "for i in labels:\n",
        "    folderPath = os.path.join('/content/drive/MyDrive/Binary Classification Learn Dataset/Feature datasets/',i)\n",
        "    for j in tqdm(os.listdir(folderPath)):\n",
        "        img = cv2.imread(os.path.join(folderPath,j))\n",
        "        img = cv2.resize(img,(image_size, image_size))\n",
        "        x_train.append(img)\n",
        "        y_train.append(labels[i])\n",
        "\n",
        "x_train = np.array(x_train)\n",
        "y_train = np.array(y_train)"
      ],
      "metadata": {
        "colab": {
          "base_uri": "https://localhost:8080/"
        },
        "id": "ybFtd-jZ1Gvb",
        "outputId": "659a624f-22c4-4afb-c14d-7a3465d24260"
      },
      "execution_count": 5,
      "outputs": [
        {
          "output_type": "stream",
          "name": "stderr",
          "text": [
            "100%|██████████| 100/100 [00:24<00:00,  4.15it/s]\n",
            "100%|██████████| 100/100 [01:00<00:00,  1.66it/s]\n"
          ]
        }
      ]
    },
    {
      "cell_type": "code",
      "execution_count": 6,
      "metadata": {
        "id": "D_jrKyt49-ff"
      },
      "outputs": [],
      "source": [
        "x_train, y_train = shuffle(x_train,y_train, random_state=42)"
      ]
    },
    {
      "cell_type": "code",
      "execution_count": 7,
      "metadata": {
        "id": "Uo7QgHoilhf9"
      },
      "outputs": [],
      "source": [
        "x_train,x_test,y_train,y_test = train_test_split(x_train,y_train, test_size=0.20,random_state=1321)"
      ]
    },
    {
      "cell_type": "code",
      "execution_count": 8,
      "metadata": {
        "id": "ysBuIefOaxsn",
        "colab": {
          "base_uri": "https://localhost:8080/"
        },
        "outputId": "de691061-0d6e-44ea-eae9-10ba50840a14"
      },
      "outputs": [
        {
          "output_type": "stream",
          "name": "stdout",
          "text": [
            "[0 0 1 1 1 1 1 1 1 1 0 0 1 0 0 1 0 1 1 1 0 1 0 1 1 0 1 0 0 0 1 1 0 0 0 1 1\n",
            " 1 1 0 1 0 0 0 1 1 1 1 0 1 0 0 0 0 1 1 1 1 1 0 1 0 1 0 1 0 1 0 1 1 0 1 1 0\n",
            " 0 0 0 1 1 0 1 0 0 1 0 1 1 1 1 1 1 0 0 0 0 1 1 0 0 0 1 1 1 1 0 0 1 0 1 1 0\n",
            " 0 0 0 0 1 1 0 0 0 0 0 0 1 1 0 1 1 0 0 0 0 0 1 1 0 0 1 1 1 0 0 0 0 0 1 0 0\n",
            " 0 0 1 0 1 0 0 1 1 1 0 0]\n"
          ]
        }
      ],
      "source": [
        "print(y_train)"
      ]
    },
    {
      "cell_type": "code",
      "source": [
        "# DATA\n",
        "NUM_CLASSES = 1\n",
        "INPUT_SHAPE = (32, 32, 3)\n",
        "BUFFER_SIZE = 512\n",
        "BATCH_SIZE = 256\n",
        "\n",
        "# AUGMENTATION\n",
        "IMAGE_SIZE = 72\n",
        "PATCH_SIZE = 6\n",
        "NUM_PATCHES = (IMAGE_SIZE // PATCH_SIZE) ** 2\n",
        "\n",
        "# OPTIMIZER\n",
        "LEARNING_RATE = 0.0001\n",
        "WEIGHT_DECAY = 0.00001\n",
        "\n",
        "# TRAINING\n",
        "EPOCHS = 100\n",
        "\n",
        "# ARCHITECTURE\n",
        "LAYER_NORM_EPS = 1e-6\n",
        "TRANSFORMER_LAYERS = 8\n",
        "PROJECTION_DIM = 64\n",
        "NUM_HEADS = 8\n",
        "TRANSFORMER_UNITS = [\n",
        "    PROJECTION_DIM * 2,\n",
        "    PROJECTION_DIM,\n",
        "]\n",
        "MLP_HEAD_UNITS = [\n",
        "    2048,\n",
        "    1024\n",
        "]"
      ],
      "metadata": {
        "id": "v4QB5rMoHsIu"
      },
      "execution_count": 44,
      "outputs": []
    },
    {
      "cell_type": "code",
      "execution_count": 45,
      "metadata": {
        "id": "dGX4Fl5W1PY8"
      },
      "outputs": [],
      "source": [
        "train_data_augmentation = keras.Sequential(\n",
        "    [\n",
        "        layers.Normalization(),\n",
        "        layers.Resizing(IMAGE_SIZE, IMAGE_SIZE),\n",
        "        layers.RandomFlip(\"horizontal\"),\n",
        "        layers.RandomRotation(factor=0.02),\n",
        "        layers.RandomZoom(\n",
        "            height_factor=0.2, width_factor=0.2\n",
        "        ),\n",
        "    ],\n",
        "    name=\"train_data_augmentation\",\n",
        ")\n",
        "\n",
        "test_data_augmentation = keras.Sequential(\n",
        "    [\n",
        "        layers.Normalization(),\n",
        "        layers.Resizing(IMAGE_SIZE, IMAGE_SIZE),\n",
        "    ],\n",
        "    name=\"test_data_augmentation\",\n",
        ")\n",
        "\n",
        "# Compute the mean and the variance of the training data for normalization.\n",
        "train_data_augmentation.layers[0].adapt(x_train)\n",
        "test_data_augmentation.layers[0].adapt(x_train)"
      ]
    },
    {
      "cell_type": "code",
      "execution_count": 46,
      "metadata": {
        "id": "MJ4QsLfk9umO"
      },
      "outputs": [],
      "source": [
        "def map_fn_train(image, label):\n",
        "    return (train_data_augmentation(image), label)\n",
        "\n",
        "def map_fn_test(image, label):\n",
        "    return (test_data_augmentation(image), label)\n",
        "AUTO = tf.data.AUTOTUNE\n",
        "train_ds = tf.data.Dataset.from_tensor_slices((x_train, y_train))\n",
        "train_ds = train_ds.shuffle(BUFFER_SIZE).batch(BATCH_SIZE).map(map_fn_train).prefetch(AUTO)\n",
        "\n",
        "\n",
        "test_ds = tf.data.Dataset.from_tensor_slices((x_test, y_test))\n",
        "test_ds = test_ds.batch(BATCH_SIZE).map(map_fn_test).prefetch(AUTO)"
      ]
    },
    {
      "cell_type": "code",
      "execution_count": 47,
      "metadata": {
        "id": "VtkPT2UT9wv_"
      },
      "outputs": [],
      "source": [
        "class ShiftedPatchTokenization(layers.Layer):\n",
        "    def __init__(\n",
        "        self,\n",
        "        image_size=IMAGE_SIZE,\n",
        "        patch_size=PATCH_SIZE,\n",
        "        num_patches=NUM_PATCHES,\n",
        "        projection_dim=PROJECTION_DIM,\n",
        "        vanilla=False,\n",
        "    ):\n",
        "        super().__init__()\n",
        "        self.vanilla = vanilla # Flag to swtich to vanilla patch extractor\n",
        "        self.image_size = image_size\n",
        "        self.patch_size = patch_size\n",
        "        self.half_patch = patch_size // 2\n",
        "        self.flatten_patches = layers.Reshape((num_patches, -1))\n",
        "        self.projection = layers.Dense(units=projection_dim)\n",
        "        self.layer_norm = layers.LayerNormalization(epsilon=LAYER_NORM_EPS)\n",
        "\n",
        "    def get_config(self):\n",
        "        config = super().get_config()\n",
        "        config.update({\n",
        "            \"vanilla\": self.vanilla,\n",
        "            \"image_size\": self.image_size,\n",
        "            \"patch_size\": self.patch_size,\n",
        "            \"half_patch\": self.half_patch\n",
        "        })\n",
        "        return config\n",
        "\n",
        "    def crop_shift_pad(self, images, mode):\n",
        "        # Build the diagonally shifted images\n",
        "        if mode == \"left-up\":\n",
        "            crop_height = self.half_patch\n",
        "            crop_width = self.half_patch\n",
        "            shift_height = 0\n",
        "            shift_width = 0\n",
        "        elif mode == \"left-down\":\n",
        "            crop_height = 0\n",
        "            crop_width = self.half_patch\n",
        "            shift_height = self.half_patch\n",
        "            shift_width = 0\n",
        "        elif mode == \"right-up\":\n",
        "            crop_height = self.half_patch\n",
        "            crop_width = 0\n",
        "            shift_height = 0\n",
        "            shift_width = self.half_patch\n",
        "        else:\n",
        "            crop_height = 0\n",
        "            crop_width = 0\n",
        "            shift_height = self.half_patch\n",
        "            shift_width = self.half_patch\n",
        "\n",
        "        # Crop the shifted images and pad them\n",
        "        crop = tf.image.crop_to_bounding_box(\n",
        "            images,\n",
        "            offset_height=crop_height,\n",
        "            offset_width=crop_width,\n",
        "            target_height=self.image_size-self.half_patch,\n",
        "            target_width=self.image_size-self.half_patch,\n",
        "        )\n",
        "        shift_pad = tf.image.pad_to_bounding_box(\n",
        "            crop,\n",
        "            offset_height=shift_height,\n",
        "            offset_width=shift_width,\n",
        "            target_height=self.image_size,\n",
        "            target_width=self.image_size,\n",
        "        )\n",
        "        return shift_pad\n",
        "\n",
        "    def call(self, images):\n",
        "        if not self.vanilla:\n",
        "            # Concat the shifted images with the original image\n",
        "            images = tf.concat(\n",
        "                [\n",
        "                    images,\n",
        "                    self.crop_shift_pad(images, mode=\"left-up\"),\n",
        "                    self.crop_shift_pad(images, mode=\"left-down\"),\n",
        "                    self.crop_shift_pad(images, mode=\"right-up\"),\n",
        "                    self.crop_shift_pad(images, mode=\"right-down\"),\n",
        "                ],\n",
        "                axis=-1\n",
        "            )\n",
        "        # Patchify the images and flatten it\n",
        "        patches = tf.image.extract_patches(\n",
        "            images=images,\n",
        "            sizes=[1, self.patch_size, self.patch_size, 1],\n",
        "            strides=[1, self.patch_size, self.patch_size, 1],\n",
        "            rates=[1, 1, 1, 1],\n",
        "            padding=\"VALID\",\n",
        "        )\n",
        "        flat_patches = self.flatten_patches(patches)\n",
        "        if not self.vanilla:\n",
        "            # Layer normalize the flat patches and linearly project it\n",
        "            tokens = self.layer_norm(flat_patches)\n",
        "            tokens = self.projection(tokens)\n",
        "        else:\n",
        "            # Linearly project the flat patches\n",
        "            tokens = self.projection(flat_patches)\n",
        "        return (tokens, patches)"
      ]
    },
    {
      "cell_type": "code",
      "execution_count": 48,
      "metadata": {
        "id": "Cu6KSnXOOTfz"
      },
      "outputs": [],
      "source": [
        "class PatchEncoder(layers.Layer):\n",
        "    def __init__(self, num_patches=NUM_PATCHES, projection_dim=PROJECTION_DIM):\n",
        "        super().__init__()\n",
        "        self.num_patches = num_patches\n",
        "        self.position_embedding = layers.Embedding(\n",
        "            input_dim=num_patches, output_dim=projection_dim\n",
        "        )\n",
        "        self.positions = tf.range(start=0, limit=self.num_patches, delta=1)\n",
        "\n",
        "    def get_config(self):\n",
        "        config = super().get_config()\n",
        "        config.update({\n",
        "            \"num_patches\": self.num_patches,\n",
        "            \"positions\": self.positions.numpy(),\n",
        "        })\n",
        "        return config\n",
        "\n",
        "    def call(self, encoded_patches):\n",
        "        encoded_positions = self.position_embedding(self.positions)\n",
        "        encoded_patches = encoded_patches + encoded_positions\n",
        "        return encoded_patches"
      ]
    },
    {
      "cell_type": "code",
      "execution_count": 49,
      "metadata": {
        "id": "i8M_uHLMTMmc"
      },
      "outputs": [],
      "source": [
        "class MultiHeadAttentionLSA(tf.keras.layers.MultiHeadAttention):\n",
        "    def __init__(self, **kwargs):\n",
        "        super().__init__(**kwargs)\n",
        "        # The trainable temperature term. The initial value is\n",
        "        # the square root of the key dimension.\n",
        "        self.tau = tf.Variable(\n",
        "            math.sqrt(float(self._key_dim)),\n",
        "            trainable=True\n",
        "        )\n",
        "        # Build the diagonal attention mask\n",
        "        diag_attn_mask = 1 - tf.eye(NUM_PATCHES)\n",
        "        self.diag_attn_mask = tf.cast([diag_attn_mask], dtype=tf.int8)\n",
        "\n",
        "    def get_config(self):\n",
        "        config = super().get_config()\n",
        "        config.update({\n",
        "            \"tau\": self.tau.numpy(),\n",
        "            \"diag_attn_mask\": self.diag_attn_mask.numpy(),\n",
        "        })\n",
        "        return config\n",
        "\n",
        "    def _compute_attention(\n",
        "        self,\n",
        "        query,\n",
        "        key,\n",
        "        value,\n",
        "        attention_mask=None,\n",
        "        training=None\n",
        "    ):\n",
        "        query = tf.multiply(query, 1.0 / self.tau)\n",
        "        attention_scores = tf.einsum(self._dot_product_equation, key, query)\n",
        "        attention_scores = self._masked_softmax(attention_scores, attention_mask=self.diag_attn_mask)\n",
        "        attention_scores_dropout = self._dropout_layer(attention_scores, training=training)\n",
        "        attention_output = tf.einsum(self._combine_equation, attention_scores_dropout, value)\n",
        "        return attention_output, attention_scores"
      ]
    },
    {
      "cell_type": "code",
      "execution_count": 50,
      "metadata": {
        "id": "KsAqpbzIT5si"
      },
      "outputs": [],
      "source": [
        "def mlp(x, hidden_units, dropout_rate):\n",
        "    for units in hidden_units:\n",
        "        x = layers.Dense(units, activation=tf.nn.gelu)(x)\n",
        "        x = layers.Dropout(dropout_rate)(x)\n",
        "    return x"
      ]
    },
    {
      "cell_type": "code",
      "execution_count": 51,
      "metadata": {
        "id": "4P4MZ4FnSKWz"
      },
      "outputs": [],
      "source": [
        "def create_vit_classifier(vanilla=False):\n",
        "    inputs = layers.Input(shape=(IMAGE_SIZE, IMAGE_SIZE, 3), name=\"input_layer\")\n",
        "    # Create patches.\n",
        "    (tokens, _)  = ShiftedPatchTokenization(vanilla=vanilla)(inputs)\n",
        "    # Encode patches.\n",
        "    encoded_patches = PatchEncoder()(tokens)\n",
        "\n",
        "    # Create multiple layers of the Transformer block.\n",
        "    for _ in range(TRANSFORMER_LAYERS):\n",
        "        # Layer normalization 1.\n",
        "        x1 = layers.LayerNormalization(epsilon=1e-6)(encoded_patches)\n",
        "        # Create a multi-head attention layer.\n",
        "        if not vanilla:\n",
        "            attention_output = MultiHeadAttentionLSA(\n",
        "                num_heads=NUM_HEADS, key_dim=PROJECTION_DIM, dropout=0.1\n",
        "            )(x1, x1)\n",
        "        else:\n",
        "            attention_output = layers.MultiHeadAttention(\n",
        "                num_heads=NUM_HEADS, key_dim=PROJECTION_DIM, dropout=0.1\n",
        "            )(x1, x1)\n",
        "        # Skip connection 1.\n",
        "        x2 = layers.Add()([attention_output, encoded_patches])\n",
        "        # Layer normalization 2.\n",
        "        x3 = layers.LayerNormalization(epsilon=1e-6)(x2)\n",
        "        # MLP.\n",
        "        x3 = mlp(x3, hidden_units=TRANSFORMER_UNITS, dropout_rate=0.1)\n",
        "        # Skip connection 2.\n",
        "        encoded_patches = layers.Add()([x3, x2])\n",
        "\n",
        "    # Create a [batch_size, projection_dim] tensor.\n",
        "    representation = layers.LayerNormalization(epsilon=1e-6)(encoded_patches)\n",
        "    representation = layers.Flatten()(representation)\n",
        "    representation = layers.Dropout(0.5)(representation)\n",
        "    # Add MLP.\n",
        "    features = mlp(representation, hidden_units=MLP_HEAD_UNITS, dropout_rate=0.5)\n",
        "    # Classify outputs.\n",
        "    logits = layers.Dense(NUM_CLASSES, name=\"output_dense\")(features)\n",
        "    # Create the Keras model.\n",
        "    model = keras.Model(inputs=inputs, outputs=logits)\n",
        "    return model"
      ]
    },
    {
      "cell_type": "code",
      "execution_count": 52,
      "metadata": {
        "id": "ZI0o6Ji9RNQz"
      },
      "outputs": [],
      "source": [
        "class WarmUpCosine(keras.optimizers.schedules.LearningRateSchedule):\n",
        "    def __init__(\n",
        "        self, learning_rate_base, total_steps, warmup_learning_rate, warmup_steps\n",
        "    ):\n",
        "        super(WarmUpCosine, self).__init__()\n",
        "\n",
        "        self.learning_rate_base = learning_rate_base\n",
        "        self.total_steps = total_steps\n",
        "        self.warmup_learning_rate = warmup_learning_rate\n",
        "        self.warmup_steps = warmup_steps\n",
        "        self.pi = tf.constant(np.pi)\n",
        "\n",
        "    def __call__(self, step):\n",
        "        if self.total_steps < self.warmup_steps:\n",
        "            raise ValueError(\"Total_steps must be larger or equal to warmup_steps.\")\n",
        "\n",
        "        cos_annealed_lr = tf.cos(\n",
        "            self.pi\n",
        "            * (tf.cast(step, tf.float32) - self.warmup_steps)\n",
        "            / float(self.total_steps - self.warmup_steps)\n",
        "        )\n",
        "        learning_rate = 0.5 * self.learning_rate_base * (1 + cos_annealed_lr)\n",
        "\n",
        "        if self.warmup_steps > 0:\n",
        "            if self.learning_rate_base < self.warmup_learning_rate:\n",
        "                raise ValueError(\n",
        "                    \"Learning_rate_base must be larger or equal to \"\n",
        "                    \"warmup_learning_rate.\"\n",
        "                )\n",
        "            slope = (\n",
        "                self.learning_rate_base - self.warmup_learning_rate\n",
        "            ) / self.warmup_steps\n",
        "            warmup_rate = slope * tf.cast(step, tf.float32) + self.warmup_learning_rate\n",
        "            learning_rate = tf.where(\n",
        "                step < self.warmup_steps, warmup_rate, learning_rate\n",
        "            )\n",
        "        return tf.where(\n",
        "            step > self.total_steps, 0.0, learning_rate, name=\"learning_rate\"\n",
        "        )"
      ]
    },
    {
      "cell_type": "code",
      "source": [
        "def run_experiment(model):\n",
        "    total_steps = int((len(x_train) / BATCH_SIZE) * EPOCHS)\n",
        "    warmup_epoch_percentage = 0.10\n",
        "    warmup_steps = int(total_steps * warmup_epoch_percentage)\n",
        "    scheduled_lrs = WarmUpCosine(\n",
        "        learning_rate_base=LEARNING_RATE,\n",
        "        total_steps=total_steps,\n",
        "        warmup_learning_rate=0.0001,\n",
        "        warmup_steps=warmup_steps,\n",
        "    )\n",
        "\n",
        "    optimizer = tfa.optimizers.AdamW(\n",
        "        learning_rate=LEARNING_RATE, weight_decay=WEIGHT_DECAY\n",
        "    )\n",
        "\n",
        "    model.compile(\n",
        "        optimizer=optimizer,\n",
        "        loss=keras.losses.BinaryCrossentropy(from_logits=True),\n",
        "        metrics=[\n",
        "            keras.metrics.BinaryAccuracy(name=\"accuracy\"),\n",
        "        ],\n",
        "    )\n",
        "\n",
        "    history = model.fit(\n",
        "        train_ds,\n",
        "        validation_data = test_ds,\n",
        "        epochs=EPOCHS,\n",
        "    )\n",
        "\n",
        "    return history"
      ],
      "metadata": {
        "id": "Ox-ZXRfWRxWc"
      },
      "execution_count": 53,
      "outputs": []
    },
    {
      "cell_type": "code",
      "source": [
        "vit_sl = create_vit_classifier(vanilla=False)\n",
        "history = run_experiment(vit_sl)"
      ],
      "metadata": {
        "colab": {
          "base_uri": "https://localhost:8080/"
        },
        "id": "jKOlFweOR7LZ",
        "outputId": "f9dcae87-1be2-4179-9a34-7ed6e2b9a1cb"
      },
      "execution_count": 54,
      "outputs": [
        {
          "output_type": "stream",
          "name": "stdout",
          "text": [
            "Epoch 1/100\n",
            "1/1 [==============================] - 15s 15s/step - loss: 1.5129 - accuracy: 0.5063 - val_loss: 0.9284 - val_accuracy: 0.6250\n",
            "Epoch 2/100\n",
            "1/1 [==============================] - 1s 1s/step - loss: 1.0936 - accuracy: 0.5688 - val_loss: 1.0814 - val_accuracy: 0.6500\n",
            "Epoch 3/100\n",
            "1/1 [==============================] - 1s 914ms/step - loss: 1.1261 - accuracy: 0.6125 - val_loss: 0.8689 - val_accuracy: 0.6750\n",
            "Epoch 4/100\n",
            "1/1 [==============================] - 1s 963ms/step - loss: 1.1828 - accuracy: 0.5938 - val_loss: 0.6336 - val_accuracy: 0.7500\n",
            "Epoch 5/100\n",
            "1/1 [==============================] - 1s 975ms/step - loss: 0.9432 - accuracy: 0.6313 - val_loss: 0.5211 - val_accuracy: 0.7000\n",
            "Epoch 6/100\n",
            "1/1 [==============================] - 1s 1s/step - loss: 0.8319 - accuracy: 0.6687 - val_loss: 0.4958 - val_accuracy: 0.7250\n",
            "Epoch 7/100\n",
            "1/1 [==============================] - 1s 1s/step - loss: 0.8834 - accuracy: 0.6938 - val_loss: 0.5000 - val_accuracy: 0.7500\n",
            "Epoch 8/100\n",
            "1/1 [==============================] - 1s 1s/step - loss: 0.7758 - accuracy: 0.6812 - val_loss: 0.5111 - val_accuracy: 0.7500\n",
            "Epoch 9/100\n",
            "1/1 [==============================] - 1s 1s/step - loss: 0.8908 - accuracy: 0.6562 - val_loss: 0.5449 - val_accuracy: 0.7500\n",
            "Epoch 10/100\n",
            "1/1 [==============================] - 1s 968ms/step - loss: 0.8546 - accuracy: 0.6125 - val_loss: 0.6002 - val_accuracy: 0.7000\n",
            "Epoch 11/100\n",
            "1/1 [==============================] - 1s 927ms/step - loss: 0.7215 - accuracy: 0.7188 - val_loss: 0.6571 - val_accuracy: 0.7000\n",
            "Epoch 12/100\n",
            "1/1 [==============================] - 1s 961ms/step - loss: 0.8030 - accuracy: 0.7563 - val_loss: 0.6890 - val_accuracy: 0.7000\n",
            "Epoch 13/100\n",
            "1/1 [==============================] - 1s 905ms/step - loss: 0.7713 - accuracy: 0.7125 - val_loss: 0.7049 - val_accuracy: 0.7000\n",
            "Epoch 14/100\n",
            "1/1 [==============================] - 1s 899ms/step - loss: 0.7572 - accuracy: 0.7500 - val_loss: 0.6806 - val_accuracy: 0.7250\n",
            "Epoch 15/100\n",
            "1/1 [==============================] - 1s 968ms/step - loss: 0.7085 - accuracy: 0.7125 - val_loss: 0.6380 - val_accuracy: 0.7000\n",
            "Epoch 16/100\n",
            "1/1 [==============================] - 1s 1s/step - loss: 0.7348 - accuracy: 0.7125 - val_loss: 0.5906 - val_accuracy: 0.7250\n",
            "Epoch 17/100\n",
            "1/1 [==============================] - 1s 1s/step - loss: 0.6730 - accuracy: 0.7437 - val_loss: 0.5535 - val_accuracy: 0.7500\n",
            "Epoch 18/100\n",
            "1/1 [==============================] - 1s 977ms/step - loss: 0.6620 - accuracy: 0.7375 - val_loss: 0.5306 - val_accuracy: 0.7250\n",
            "Epoch 19/100\n",
            "1/1 [==============================] - 1s 992ms/step - loss: 0.6477 - accuracy: 0.7312 - val_loss: 0.5233 - val_accuracy: 0.7250\n",
            "Epoch 20/100\n",
            "1/1 [==============================] - 1s 969ms/step - loss: 0.6255 - accuracy: 0.7625 - val_loss: 0.5218 - val_accuracy: 0.7250\n",
            "Epoch 21/100\n",
            "1/1 [==============================] - 1s 961ms/step - loss: 0.5734 - accuracy: 0.7500 - val_loss: 0.5263 - val_accuracy: 0.7250\n",
            "Epoch 22/100\n",
            "1/1 [==============================] - 1s 1s/step - loss: 0.5975 - accuracy: 0.7312 - val_loss: 0.5357 - val_accuracy: 0.7250\n",
            "Epoch 23/100\n",
            "1/1 [==============================] - 1s 980ms/step - loss: 0.4740 - accuracy: 0.7375 - val_loss: 0.5535 - val_accuracy: 0.7250\n",
            "Epoch 24/100\n",
            "1/1 [==============================] - 1s 1s/step - loss: 0.6016 - accuracy: 0.7500 - val_loss: 0.5804 - val_accuracy: 0.7500\n",
            "Epoch 25/100\n",
            "1/1 [==============================] - 1s 1s/step - loss: 0.6214 - accuracy: 0.7188 - val_loss: 0.6127 - val_accuracy: 0.7500\n",
            "Epoch 26/100\n",
            "1/1 [==============================] - 1s 1s/step - loss: 0.6108 - accuracy: 0.7563 - val_loss: 0.6503 - val_accuracy: 0.7000\n",
            "Epoch 27/100\n",
            "1/1 [==============================] - 1s 992ms/step - loss: 0.4293 - accuracy: 0.8250 - val_loss: 0.6819 - val_accuracy: 0.7000\n",
            "Epoch 28/100\n",
            "1/1 [==============================] - 1s 966ms/step - loss: 0.6147 - accuracy: 0.7688 - val_loss: 0.6928 - val_accuracy: 0.7000\n",
            "Epoch 29/100\n",
            "1/1 [==============================] - 1s 984ms/step - loss: 0.5950 - accuracy: 0.7875 - val_loss: 0.6833 - val_accuracy: 0.7000\n",
            "Epoch 30/100\n",
            "1/1 [==============================] - 1s 965ms/step - loss: 0.5939 - accuracy: 0.7563 - val_loss: 0.6630 - val_accuracy: 0.7500\n",
            "Epoch 31/100\n",
            "1/1 [==============================] - 1s 1s/step - loss: 0.5609 - accuracy: 0.8062 - val_loss: 0.6359 - val_accuracy: 0.7500\n",
            "Epoch 32/100\n",
            "1/1 [==============================] - 1s 987ms/step - loss: 0.5979 - accuracy: 0.7937 - val_loss: 0.6150 - val_accuracy: 0.7500\n",
            "Epoch 33/100\n",
            "1/1 [==============================] - 1s 992ms/step - loss: 0.4876 - accuracy: 0.7875 - val_loss: 0.6039 - val_accuracy: 0.7500\n",
            "Epoch 34/100\n",
            "1/1 [==============================] - 1s 1s/step - loss: 0.5476 - accuracy: 0.7688 - val_loss: 0.6002 - val_accuracy: 0.7500\n",
            "Epoch 35/100\n",
            "1/1 [==============================] - 1s 1s/step - loss: 0.4606 - accuracy: 0.7875 - val_loss: 0.6012 - val_accuracy: 0.7500\n",
            "Epoch 36/100\n",
            "1/1 [==============================] - 1s 1s/step - loss: 0.4089 - accuracy: 0.7875 - val_loss: 0.6071 - val_accuracy: 0.7500\n",
            "Epoch 37/100\n",
            "1/1 [==============================] - 1s 1s/step - loss: 0.5123 - accuracy: 0.7750 - val_loss: 0.6177 - val_accuracy: 0.7500\n",
            "Epoch 38/100\n",
            "1/1 [==============================] - 1s 996ms/step - loss: 0.5017 - accuracy: 0.7563 - val_loss: 0.6301 - val_accuracy: 0.7500\n",
            "Epoch 39/100\n",
            "1/1 [==============================] - 1s 979ms/step - loss: 0.6158 - accuracy: 0.7563 - val_loss: 0.6434 - val_accuracy: 0.7500\n",
            "Epoch 40/100\n",
            "1/1 [==============================] - 1s 931ms/step - loss: 0.5191 - accuracy: 0.7500 - val_loss: 0.6577 - val_accuracy: 0.7500\n",
            "Epoch 41/100\n",
            "1/1 [==============================] - 1s 931ms/step - loss: 0.3986 - accuracy: 0.8375 - val_loss: 0.6702 - val_accuracy: 0.7500\n",
            "Epoch 42/100\n",
            "1/1 [==============================] - 1s 967ms/step - loss: 0.4307 - accuracy: 0.8250 - val_loss: 0.6814 - val_accuracy: 0.7500\n",
            "Epoch 43/100\n",
            "1/1 [==============================] - 1s 908ms/step - loss: 0.5662 - accuracy: 0.7625 - val_loss: 0.6862 - val_accuracy: 0.7500\n",
            "Epoch 44/100\n",
            "1/1 [==============================] - 1s 1s/step - loss: 0.5534 - accuracy: 0.7625 - val_loss: 0.6892 - val_accuracy: 0.7500\n",
            "Epoch 45/100\n",
            "1/1 [==============================] - 1s 1s/step - loss: 0.4292 - accuracy: 0.8313 - val_loss: 0.6888 - val_accuracy: 0.7500\n",
            "Epoch 46/100\n",
            "1/1 [==============================] - 1s 1s/step - loss: 0.4474 - accuracy: 0.8000 - val_loss: 0.6849 - val_accuracy: 0.7500\n",
            "Epoch 47/100\n",
            "1/1 [==============================] - 1s 926ms/step - loss: 0.4150 - accuracy: 0.8625 - val_loss: 0.6808 - val_accuracy: 0.7500\n",
            "Epoch 48/100\n",
            "1/1 [==============================] - 1s 925ms/step - loss: 0.4221 - accuracy: 0.8062 - val_loss: 0.6762 - val_accuracy: 0.7500\n",
            "Epoch 49/100\n",
            "1/1 [==============================] - 1s 979ms/step - loss: 0.4075 - accuracy: 0.8313 - val_loss: 0.6759 - val_accuracy: 0.7500\n",
            "Epoch 50/100\n",
            "1/1 [==============================] - 1s 966ms/step - loss: 0.3676 - accuracy: 0.8438 - val_loss: 0.6729 - val_accuracy: 0.7500\n",
            "Epoch 51/100\n",
            "1/1 [==============================] - 1s 971ms/step - loss: 0.4314 - accuracy: 0.8062 - val_loss: 0.6700 - val_accuracy: 0.7500\n",
            "Epoch 52/100\n",
            "1/1 [==============================] - 1s 978ms/step - loss: 0.3803 - accuracy: 0.8250 - val_loss: 0.6669 - val_accuracy: 0.7500\n",
            "Epoch 53/100\n",
            "1/1 [==============================] - 1s 951ms/step - loss: 0.4560 - accuracy: 0.8000 - val_loss: 0.6634 - val_accuracy: 0.7500\n",
            "Epoch 54/100\n",
            "1/1 [==============================] - 1s 970ms/step - loss: 0.3143 - accuracy: 0.8687 - val_loss: 0.6598 - val_accuracy: 0.7500\n",
            "Epoch 55/100\n",
            "1/1 [==============================] - 1s 1s/step - loss: 0.3570 - accuracy: 0.8750 - val_loss: 0.6576 - val_accuracy: 0.7500\n",
            "Epoch 56/100\n",
            "1/1 [==============================] - 2s 2s/step - loss: 0.3891 - accuracy: 0.8250 - val_loss: 0.6561 - val_accuracy: 0.7500\n",
            "Epoch 57/100\n",
            "1/1 [==============================] - 1s 1s/step - loss: 0.4871 - accuracy: 0.8188 - val_loss: 0.6565 - val_accuracy: 0.7500\n",
            "Epoch 58/100\n",
            "1/1 [==============================] - 1s 970ms/step - loss: 0.3444 - accuracy: 0.8250 - val_loss: 0.6591 - val_accuracy: 0.7500\n",
            "Epoch 59/100\n",
            "1/1 [==============================] - 1s 984ms/step - loss: 0.4613 - accuracy: 0.8188 - val_loss: 0.6631 - val_accuracy: 0.7500\n",
            "Epoch 60/100\n",
            "1/1 [==============================] - 1s 978ms/step - loss: 0.3663 - accuracy: 0.8438 - val_loss: 0.6680 - val_accuracy: 0.7500\n",
            "Epoch 61/100\n",
            "1/1 [==============================] - 1s 928ms/step - loss: 0.4336 - accuracy: 0.7625 - val_loss: 0.6751 - val_accuracy: 0.7500\n",
            "Epoch 62/100\n",
            "1/1 [==============================] - 1s 978ms/step - loss: 0.3684 - accuracy: 0.8500 - val_loss: 0.6822 - val_accuracy: 0.7750\n",
            "Epoch 63/100\n",
            "1/1 [==============================] - 1s 975ms/step - loss: 0.3684 - accuracy: 0.8313 - val_loss: 0.6876 - val_accuracy: 0.7750\n",
            "Epoch 64/100\n",
            "1/1 [==============================] - 1s 976ms/step - loss: 0.4239 - accuracy: 0.8500 - val_loss: 0.6821 - val_accuracy: 0.7750\n",
            "Epoch 65/100\n",
            "1/1 [==============================] - 1s 1s/step - loss: 0.3485 - accuracy: 0.8562 - val_loss: 0.6746 - val_accuracy: 0.7750\n",
            "Epoch 66/100\n",
            "1/1 [==============================] - 1s 1s/step - loss: 0.3490 - accuracy: 0.8687 - val_loss: 0.6649 - val_accuracy: 0.7500\n",
            "Epoch 67/100\n",
            "1/1 [==============================] - 1s 1s/step - loss: 0.3258 - accuracy: 0.8813 - val_loss: 0.6551 - val_accuracy: 0.7500\n",
            "Epoch 68/100\n",
            "1/1 [==============================] - 1s 956ms/step - loss: 0.3543 - accuracy: 0.8875 - val_loss: 0.6466 - val_accuracy: 0.7500\n",
            "Epoch 69/100\n",
            "1/1 [==============================] - 1s 972ms/step - loss: 0.4292 - accuracy: 0.8062 - val_loss: 0.6393 - val_accuracy: 0.7250\n",
            "Epoch 70/100\n",
            "1/1 [==============================] - 1s 959ms/step - loss: 0.2910 - accuracy: 0.8687 - val_loss: 0.6365 - val_accuracy: 0.7250\n",
            "Epoch 71/100\n",
            "1/1 [==============================] - 1s 999ms/step - loss: 0.4422 - accuracy: 0.8188 - val_loss: 0.6375 - val_accuracy: 0.7250\n",
            "Epoch 72/100\n",
            "1/1 [==============================] - 1s 933ms/step - loss: 0.4125 - accuracy: 0.8062 - val_loss: 0.6408 - val_accuracy: 0.7250\n",
            "Epoch 73/100\n",
            "1/1 [==============================] - 1s 927ms/step - loss: 0.3933 - accuracy: 0.8125 - val_loss: 0.6483 - val_accuracy: 0.7500\n",
            "Epoch 74/100\n",
            "1/1 [==============================] - 1s 919ms/step - loss: 0.3066 - accuracy: 0.8562 - val_loss: 0.6604 - val_accuracy: 0.7500\n",
            "Epoch 75/100\n",
            "1/1 [==============================] - 1s 929ms/step - loss: 0.3445 - accuracy: 0.8562 - val_loss: 0.6716 - val_accuracy: 0.7750\n",
            "Epoch 76/100\n",
            "1/1 [==============================] - 1s 1s/step - loss: 0.2937 - accuracy: 0.8562 - val_loss: 0.6822 - val_accuracy: 0.7750\n",
            "Epoch 77/100\n",
            "1/1 [==============================] - 1s 1s/step - loss: 0.3217 - accuracy: 0.8562 - val_loss: 0.6944 - val_accuracy: 0.7750\n",
            "Epoch 78/100\n",
            "1/1 [==============================] - 1s 1s/step - loss: 0.3466 - accuracy: 0.8938 - val_loss: 0.6987 - val_accuracy: 0.7750\n",
            "Epoch 79/100\n",
            "1/1 [==============================] - 1s 977ms/step - loss: 0.3878 - accuracy: 0.8625 - val_loss: 0.6975 - val_accuracy: 0.7750\n",
            "Epoch 80/100\n",
            "1/1 [==============================] - 1s 983ms/step - loss: 0.3602 - accuracy: 0.8687 - val_loss: 0.6896 - val_accuracy: 0.7750\n",
            "Epoch 81/100\n",
            "1/1 [==============================] - 1s 1s/step - loss: 0.3251 - accuracy: 0.8625 - val_loss: 0.6784 - val_accuracy: 0.7750\n",
            "Epoch 82/100\n",
            "1/1 [==============================] - 1s 938ms/step - loss: 0.3486 - accuracy: 0.8687 - val_loss: 0.6661 - val_accuracy: 0.7500\n",
            "Epoch 83/100\n",
            "1/1 [==============================] - 1s 916ms/step - loss: 0.3297 - accuracy: 0.8625 - val_loss: 0.6564 - val_accuracy: 0.7750\n",
            "Epoch 84/100\n",
            "1/1 [==============================] - 1s 945ms/step - loss: 0.3887 - accuracy: 0.8125 - val_loss: 0.6506 - val_accuracy: 0.7750\n",
            "Epoch 85/100\n",
            "1/1 [==============================] - 1s 966ms/step - loss: 0.4465 - accuracy: 0.8125 - val_loss: 0.6481 - val_accuracy: 0.7750\n",
            "Epoch 86/100\n",
            "1/1 [==============================] - 1s 998ms/step - loss: 0.2213 - accuracy: 0.9062 - val_loss: 0.6484 - val_accuracy: 0.7750\n",
            "Epoch 87/100\n",
            "1/1 [==============================] - 1s 1s/step - loss: 0.3915 - accuracy: 0.8125 - val_loss: 0.6503 - val_accuracy: 0.7750\n",
            "Epoch 88/100\n",
            "1/1 [==============================] - 1s 1s/step - loss: 0.3663 - accuracy: 0.8500 - val_loss: 0.6543 - val_accuracy: 0.7750\n",
            "Epoch 89/100\n",
            "1/1 [==============================] - 1s 1s/step - loss: 0.3824 - accuracy: 0.8562 - val_loss: 0.6604 - val_accuracy: 0.7750\n",
            "Epoch 90/100\n",
            "1/1 [==============================] - 1s 961ms/step - loss: 0.3492 - accuracy: 0.8562 - val_loss: 0.6714 - val_accuracy: 0.7750\n",
            "Epoch 91/100\n",
            "1/1 [==============================] - 1s 937ms/step - loss: 0.3818 - accuracy: 0.7937 - val_loss: 0.6837 - val_accuracy: 0.7750\n",
            "Epoch 92/100\n",
            "1/1 [==============================] - 1s 974ms/step - loss: 0.2437 - accuracy: 0.8938 - val_loss: 0.6981 - val_accuracy: 0.7750\n",
            "Epoch 93/100\n",
            "1/1 [==============================] - 1s 970ms/step - loss: 0.3225 - accuracy: 0.8625 - val_loss: 0.7094 - val_accuracy: 0.7750\n",
            "Epoch 94/100\n",
            "1/1 [==============================] - 1s 918ms/step - loss: 0.2382 - accuracy: 0.9250 - val_loss: 0.7176 - val_accuracy: 0.7750\n",
            "Epoch 95/100\n",
            "1/1 [==============================] - 1s 926ms/step - loss: 0.3116 - accuracy: 0.8687 - val_loss: 0.7185 - val_accuracy: 0.7750\n",
            "Epoch 96/100\n",
            "1/1 [==============================] - 1s 990ms/step - loss: 0.2724 - accuracy: 0.8500 - val_loss: 0.7123 - val_accuracy: 0.7750\n",
            "Epoch 97/100\n",
            "1/1 [==============================] - 1s 1s/step - loss: 0.3342 - accuracy: 0.8438 - val_loss: 0.7051 - val_accuracy: 0.7750\n",
            "Epoch 98/100\n",
            "1/1 [==============================] - 1s 1s/step - loss: 0.3164 - accuracy: 0.8625 - val_loss: 0.6982 - val_accuracy: 0.8000\n",
            "Epoch 99/100\n",
            "1/1 [==============================] - 1s 980ms/step - loss: 0.3074 - accuracy: 0.9000 - val_loss: 0.6938 - val_accuracy: 0.8000\n",
            "Epoch 100/100\n",
            "1/1 [==============================] - 1s 920ms/step - loss: 0.2910 - accuracy: 0.8813 - val_loss: 0.6911 - val_accuracy: 0.8250\n"
          ]
        }
      ]
    },
    {
      "cell_type": "code",
      "source": [
        "loss = history.history['loss']\n",
        "val_loss = history.history['val_loss']\n",
        "epochs = range(1, len(loss) + 1)\n",
        "plt.plot(epochs, loss, 'y', label='Training loss')\n",
        "plt.plot(epochs, val_loss, 'r', label='Validation loss')\n",
        "plt.title('Training and validation loss')\n",
        "plt.xlabel('Epochs')\n",
        "plt.ylabel('Loss')\n",
        "plt.legend()\n",
        "plt.show()\n",
        "\n",
        "\n",
        "acc = history.history['accuracy']\n",
        "val_acc = history.history['val_accuracy']\n",
        "plt.plot(epochs, acc, 'y', label='Training acc')\n",
        "plt.plot(epochs, val_acc, 'r', label='Validation acc')\n",
        "plt.title('Training and validation accuracy')\n",
        "plt.xlabel('Epochs')\n",
        "plt.ylabel('Accuracy')\n",
        "plt.legend()\n",
        "plt.show()"
      ],
      "metadata": {
        "colab": {
          "base_uri": "https://localhost:8080/",
          "height": 927
        },
        "id": "ZsSs-8QgDS74",
        "outputId": "7dc7fe52-0083-43b1-ea31-87c1e3daa565"
      },
      "execution_count": 55,
      "outputs": [
        {
          "output_type": "display_data",
          "data": {
            "text/plain": [
              "<Figure size 640x480 with 1 Axes>"
            ],
            "image/png": "[encoded data removed]"
          },
          "metadata": {}
        },
        {
          "output_type": "display_data",
          "data": {
            "text/plain": [
              "<Figure size 640x480 with 1 Axes>"
            ],
            "image/png": "[encoded data removed]"
          },
          "metadata": {}
        }
      ]
    },
    {
      "cell_type": "code",
      "source": [],
      "metadata": {
        "id": "xrL3V2jMlyuN"
      },
      "execution_count": 43,
      "outputs": []
    }
  ],
  "metadata": {
    "colab": {
      "provenance": [],
      "gpuType": "T4"
    },
    "kernelspec": {
      "display_name": "Python 3",
      "name": "python3"
    },
    "language_info": {
      "name": "python"
    },
    "accelerator": "GPU"
  },
  "nbformat": 4,
  "nbformat_minor": 0
}